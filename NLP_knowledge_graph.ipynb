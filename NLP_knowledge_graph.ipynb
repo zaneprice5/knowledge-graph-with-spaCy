{
  "nbformat": 4,
  "nbformat_minor": 0,
  "metadata": {
    "colab": {
      "provenance": [],
      "authorship_tag": "ABX9TyNNHD270rfHSc5hnTjU/Cqk",
      "include_colab_link": true
    },
    "kernelspec": {
      "name": "python3",
      "display_name": "Python 3"
    },
    "language_info": {
      "name": "python"
    }
  },
  "cells": [
    {
      "cell_type": "markdown",
      "metadata": {
        "id": "view-in-github",
        "colab_type": "text"
      },
      "source": [
        "<a href=\"https://colab.research.google.com/github/zaneprice5/knowledge-graph-with-spaCy/blob/main/NLP_knowledge_graph.ipynb\" target=\"_parent\"><img src=\"https://colab.research.google.com/assets/colab-badge.svg\" alt=\"Open In Colab\"/></a>"
      ]
    },
    {
      "cell_type": "markdown",
      "source": [
        "\n",
        "# This notebook will explore the NYT headlines dataset from https://www.kaggle.com/datasets/tmishinev/nyt-headlines-20102021?select=nyt_articles_2021.csv\n",
        "\n",
        "We will mostly use sPacy https://spacy.io/ which is an industrial strength text-processing library to create a knowledge graph of the information contained in the NYT dataset.\n",
        "\n",
        "Sources:\n",
        "1. https://www.kaggle.com/code/pavansanagapati/knowledge-graph-nlp-tutorial-bert-spacy-nltk\n",
        "2. https://spacy.io/\n",
        "\n",
        "last updated: 9/7/2022"
      ],
      "metadata": {
        "id": "njH9ajxLiWs-"
      }
    },
    {
      "cell_type": "code",
      "execution_count": 1,
      "metadata": {
        "id": "NqBYHGtRiSDw"
      },
      "outputs": [],
      "source": [
        "#import necessary libraries\n",
        "\n",
        "import re\n",
        "import pandas as pd\n",
        "import bs4\n",
        "import requests\n",
        "import spacy\n",
        "from spacy import displacy\n",
        "nlp = spacy.load('en_core_web_sm')\n",
        "\n",
        "from spacy.matcher import Matcher \n",
        "from spacy.tokens import Span \n",
        "\n",
        "import networkx as nx\n",
        "\n",
        "import matplotlib.pyplot as plt\n",
        "from tqdm import tqdm\n",
        "\n",
        "pd.set_option('display.max_colwidth', 200)\n",
        "%matplotlib inline\n"
      ]
    },
    {
      "cell_type": "code",
      "source": [
        "# read in data into pandas df\n",
        "candidate_sentences = pd.read_csv(\"/content/nyt_articles_2021.csv\")\n",
        "candidate_sentences.shape"
      ],
      "metadata": {
        "colab": {
          "base_uri": "https://localhost:8080/"
        },
        "id": "sEQzSY0AiWg2",
        "outputId": "42a45003-a188-45c7-9bed-129f523d9563"
      },
      "execution_count": 2,
      "outputs": [
        {
          "output_type": "execute_result",
          "data": {
            "text/plain": [
              "(37337, 7)"
            ]
          },
          "metadata": {},
          "execution_count": 2
        }
      ]
    },
    {
      "cell_type": "code",
      "source": [
        "#inspect the data to understand its structure\n",
        "\n",
        "candidate_sentences.head()"
      ],
      "metadata": {
        "colab": {
          "base_uri": "https://localhost:8080/",
          "height": 493
        },
        "id": "MD6RsylZKuZ5",
        "outputId": "71e7de40-c7df-4213-e9c9-271517df6391"
      },
      "execution_count": 3,
      "outputs": [
        {
          "output_type": "execute_result",
          "data": {
            "text/plain": [
              "                    pub_date  \\\n",
              "0  2021-01-01 00:16:53+00:00   \n",
              "1  2021-01-01 00:58:19+00:00   \n",
              "2  2021-01-01 01:24:55+00:00   \n",
              "3  2021-01-01 01:28:22+00:00   \n",
              "4  2021-01-01 03:00:05+00:00   \n",
              "\n",
              "                                                                                                                                                                                                  abstract  \\\n",
              "0                                                   The video shows a man raising something to his car window before a bang is heard. An officer ducks for cover and then fires several rounds at the man.   \n",
              "1  Every December since 2017, Ada Rojas has guided women through the process of memorializing their New Year’s resolutions on a vision board, a collage that reflects their goals and helps keep them o...   \n",
              "2                                      The suit, led by Representative Louie Gohmert of Texas, seeks to give the vice president the power to reject electoral votes that were cast for Joseph R. Biden Jr.   \n",
              "3  The United States recorded its 20 millionth case since the start of the coronavirus pandemic on Thursday, surpassing a grim milestone just as the prospects for getting the virus under control quic...   \n",
              "4                                                                                                       Milo Beckman hides some pleasant surprises in his New Year’s puzzle — let’s hope for more of that!   \n",
              "\n",
              "                                                                               headline  \\\n",
              "0  Minneapolis Police Release Body Camera Video of Its First Killing Since George Floyd   \n",
              "1                                          Resolving to live a lot better than in 2020.   \n",
              "2                       Justice Dept. Asks Judge to Toss Election Lawsuit Against Pence   \n",
              "3                                                    The U.S. reaches 20 million cases.   \n",
              "4                                                                          Party Hearty   \n",
              "\n",
              "                                                                                                                                                                                            lead_paragraph  \\\n",
              "0  The Minneapolis Police Department released body camera footage on Thursday that shed new light on a fatal police shooting the night before, the first killing by a city police officer since George ...   \n",
              "1  Every December since 2017, Ada Rojas has guided women through the process of memorializing their New Year’s resolutions on a vision board, a collage that reflects their goals and helps keep them o...   \n",
              "2                                                                                                             [Here’s what you need to know about President-elect Joseph R. Biden Jr.’s Inauguration Day.]   \n",
              "3  The United States recorded its 20 millionth case since the start of the coronavirus pandemic on Thursday, surpassing a grim milestone just as the prospects for getting the virus under control quic...   \n",
              "4  FRIDAY PUZZLE — I hope people have a lot of fun with this “themeless” Friday, which revealed its center (to this solver, at least) like a secret box with a series of sliding parts. If Milo Beckman...   \n",
              "\n",
              "    news_desk        section_name  word_count  \n",
              "0    National                U.S.         861  \n",
              "1     Express                U.S.         263  \n",
              "2  Washington                U.S.         695  \n",
              "3     Foreign               World         438  \n",
              "4       Games  Crosswords & Games         670  "
            ],
            "text/html": [
              "\n",
              "  <div id=\"df-56b8eadf-75ae-4b7c-98fe-b957303503d7\">\n",
              "    <div class=\"colab-df-container\">\n",
              "      <div>\n",
              "<style scoped>\n",
              "    .dataframe tbody tr th:only-of-type {\n",
              "        vertical-align: middle;\n",
              "    }\n",
              "\n",
              "    .dataframe tbody tr th {\n",
              "        vertical-align: top;\n",
              "    }\n",
              "\n",
              "    .dataframe thead th {\n",
              "        text-align: right;\n",
              "    }\n",
              "</style>\n",
              "<table border=\"1\" class=\"dataframe\">\n",
              "  <thead>\n",
              "    <tr style=\"text-align: right;\">\n",
              "      <th></th>\n",
              "      <th>pub_date</th>\n",
              "      <th>abstract</th>\n",
              "      <th>headline</th>\n",
              "      <th>lead_paragraph</th>\n",
              "      <th>news_desk</th>\n",
              "      <th>section_name</th>\n",
              "      <th>word_count</th>\n",
              "    </tr>\n",
              "  </thead>\n",
              "  <tbody>\n",
              "    <tr>\n",
              "      <th>0</th>\n",
              "      <td>2021-01-01 00:16:53+00:00</td>\n",
              "      <td>The video shows a man raising something to his car window before a bang is heard. An officer ducks for cover and then fires several rounds at the man.</td>\n",
              "      <td>Minneapolis Police Release Body Camera Video of Its First Killing Since George Floyd</td>\n",
              "      <td>The Minneapolis Police Department released body camera footage on Thursday that shed new light on a fatal police shooting the night before, the first killing by a city police officer since George ...</td>\n",
              "      <td>National</td>\n",
              "      <td>U.S.</td>\n",
              "      <td>861</td>\n",
              "    </tr>\n",
              "    <tr>\n",
              "      <th>1</th>\n",
              "      <td>2021-01-01 00:58:19+00:00</td>\n",
              "      <td>Every December since 2017, Ada Rojas has guided women through the process of memorializing their New Year’s resolutions on a vision board, a collage that reflects their goals and helps keep them o...</td>\n",
              "      <td>Resolving to live a lot better than in 2020.</td>\n",
              "      <td>Every December since 2017, Ada Rojas has guided women through the process of memorializing their New Year’s resolutions on a vision board, a collage that reflects their goals and helps keep them o...</td>\n",
              "      <td>Express</td>\n",
              "      <td>U.S.</td>\n",
              "      <td>263</td>\n",
              "    </tr>\n",
              "    <tr>\n",
              "      <th>2</th>\n",
              "      <td>2021-01-01 01:24:55+00:00</td>\n",
              "      <td>The suit, led by Representative Louie Gohmert of Texas, seeks to give the vice president the power to reject electoral votes that were cast for Joseph R. Biden Jr.</td>\n",
              "      <td>Justice Dept. Asks Judge to Toss Election Lawsuit Against Pence</td>\n",
              "      <td>[Here’s what you need to know about President-elect Joseph R. Biden Jr.’s Inauguration Day.]</td>\n",
              "      <td>Washington</td>\n",
              "      <td>U.S.</td>\n",
              "      <td>695</td>\n",
              "    </tr>\n",
              "    <tr>\n",
              "      <th>3</th>\n",
              "      <td>2021-01-01 01:28:22+00:00</td>\n",
              "      <td>The United States recorded its 20 millionth case since the start of the coronavirus pandemic on Thursday, surpassing a grim milestone just as the prospects for getting the virus under control quic...</td>\n",
              "      <td>The U.S. reaches 20 million cases.</td>\n",
              "      <td>The United States recorded its 20 millionth case since the start of the coronavirus pandemic on Thursday, surpassing a grim milestone just as the prospects for getting the virus under control quic...</td>\n",
              "      <td>Foreign</td>\n",
              "      <td>World</td>\n",
              "      <td>438</td>\n",
              "    </tr>\n",
              "    <tr>\n",
              "      <th>4</th>\n",
              "      <td>2021-01-01 03:00:05+00:00</td>\n",
              "      <td>Milo Beckman hides some pleasant surprises in his New Year’s puzzle — let’s hope for more of that!</td>\n",
              "      <td>Party Hearty</td>\n",
              "      <td>FRIDAY PUZZLE — I hope people have a lot of fun with this “themeless” Friday, which revealed its center (to this solver, at least) like a secret box with a series of sliding parts. If Milo Beckman...</td>\n",
              "      <td>Games</td>\n",
              "      <td>Crosswords &amp; Games</td>\n",
              "      <td>670</td>\n",
              "    </tr>\n",
              "  </tbody>\n",
              "</table>\n",
              "</div>\n",
              "      <button class=\"colab-df-convert\" onclick=\"convertToInteractive('df-56b8eadf-75ae-4b7c-98fe-b957303503d7')\"\n",
              "              title=\"Convert this dataframe to an interactive table.\"\n",
              "              style=\"display:none;\">\n",
              "        \n",
              "  <svg xmlns=\"http://www.w3.org/2000/svg\" height=\"24px\"viewBox=\"0 0 24 24\"\n",
              "       width=\"24px\">\n",
              "    <path d=\"M0 0h24v24H0V0z\" fill=\"none\"/>\n",
              "    <path d=\"M18.56 5.44l.94 2.06.94-2.06 2.06-.94-2.06-.94-.94-2.06-.94 2.06-2.06.94zm-11 1L8.5 8.5l.94-2.06 2.06-.94-2.06-.94L8.5 2.5l-.94 2.06-2.06.94zm10 10l.94 2.06.94-2.06 2.06-.94-2.06-.94-.94-2.06-.94 2.06-2.06.94z\"/><path d=\"M17.41 7.96l-1.37-1.37c-.4-.4-.92-.59-1.43-.59-.52 0-1.04.2-1.43.59L10.3 9.45l-7.72 7.72c-.78.78-.78 2.05 0 2.83L4 21.41c.39.39.9.59 1.41.59.51 0 1.02-.2 1.41-.59l7.78-7.78 2.81-2.81c.8-.78.8-2.07 0-2.86zM5.41 20L4 18.59l7.72-7.72 1.47 1.35L5.41 20z\"/>\n",
              "  </svg>\n",
              "      </button>\n",
              "      \n",
              "  <style>\n",
              "    .colab-df-container {\n",
              "      display:flex;\n",
              "      flex-wrap:wrap;\n",
              "      gap: 12px;\n",
              "    }\n",
              "\n",
              "    .colab-df-convert {\n",
              "      background-color: #E8F0FE;\n",
              "      border: none;\n",
              "      border-radius: 50%;\n",
              "      cursor: pointer;\n",
              "      display: none;\n",
              "      fill: #1967D2;\n",
              "      height: 32px;\n",
              "      padding: 0 0 0 0;\n",
              "      width: 32px;\n",
              "    }\n",
              "\n",
              "    .colab-df-convert:hover {\n",
              "      background-color: #E2EBFA;\n",
              "      box-shadow: 0px 1px 2px rgba(60, 64, 67, 0.3), 0px 1px 3px 1px rgba(60, 64, 67, 0.15);\n",
              "      fill: #174EA6;\n",
              "    }\n",
              "\n",
              "    [theme=dark] .colab-df-convert {\n",
              "      background-color: #3B4455;\n",
              "      fill: #D2E3FC;\n",
              "    }\n",
              "\n",
              "    [theme=dark] .colab-df-convert:hover {\n",
              "      background-color: #434B5C;\n",
              "      box-shadow: 0px 1px 3px 1px rgba(0, 0, 0, 0.15);\n",
              "      filter: drop-shadow(0px 1px 2px rgba(0, 0, 0, 0.3));\n",
              "      fill: #FFFFFF;\n",
              "    }\n",
              "  </style>\n",
              "\n",
              "      <script>\n",
              "        const buttonEl =\n",
              "          document.querySelector('#df-56b8eadf-75ae-4b7c-98fe-b957303503d7 button.colab-df-convert');\n",
              "        buttonEl.style.display =\n",
              "          google.colab.kernel.accessAllowed ? 'block' : 'none';\n",
              "\n",
              "        async function convertToInteractive(key) {\n",
              "          const element = document.querySelector('#df-56b8eadf-75ae-4b7c-98fe-b957303503d7');\n",
              "          const dataTable =\n",
              "            await google.colab.kernel.invokeFunction('convertToInteractive',\n",
              "                                                     [key], {});\n",
              "          if (!dataTable) return;\n",
              "\n",
              "          const docLinkHtml = 'Like what you see? Visit the ' +\n",
              "            '<a target=\"_blank\" href=https://colab.research.google.com/notebooks/data_table.ipynb>data table notebook</a>'\n",
              "            + ' to learn more about interactive tables.';\n",
              "          element.innerHTML = '';\n",
              "          dataTable['output_type'] = 'display_data';\n",
              "          await google.colab.output.renderOutput(dataTable, element);\n",
              "          const docLink = document.createElement('div');\n",
              "          docLink.innerHTML = docLinkHtml;\n",
              "          element.appendChild(docLink);\n",
              "        }\n",
              "      </script>\n",
              "    </div>\n",
              "  </div>\n",
              "  "
            ]
          },
          "metadata": {},
          "execution_count": 3
        }
      ]
    },
    {
      "cell_type": "markdown",
      "source": [
        "#### After looking at the dataframe, we see that we have 7 features. pub_date, abstract, headline, lead_paragraph, news_desk, section_name, and word_count. We can do quite a lot with this information!"
      ],
      "metadata": {
        "id": "zf968WrSPPau"
      }
    },
    {
      "cell_type": "markdown",
      "source": [
        "### Let's explore creating a knowledge graph from the sentences contained in the dataset!"
      ],
      "metadata": {
        "id": "4PKWyQ4RP6J3"
      }
    },
    {
      "cell_type": "markdown",
      "source": [
        "### Knowledge graphs are based upon nodes and edges. An edge connects two nodes and shows the relationship between them. The smallest possible knowledge graph we can build is called a 'triple.' A triple contains two nodes and an edge. \n",
        "\n",
        "An example of a triple would be (dog, to eat, bone). This triple may be encoded in a sentence like \"The dog ate the bone yesterday.\""
      ],
      "metadata": {
        "id": "b1-IeaeEQPIp"
      }
    },
    {
      "cell_type": "markdown",
      "source": [
        "#### The most basic way to construct a knowledge graph is to break a sentence down into its most basic constituents."
      ],
      "metadata": {
        "id": "2NPa0L5TQsiL"
      }
    },
    {
      "cell_type": "code",
      "source": [
        "doc = nlp(\"the dog ate the bone yesterday.\")\n",
        "\n",
        "for tok in doc:\n",
        "  print(tok.text, \"...\", tok.dep_)"
      ],
      "metadata": {
        "colab": {
          "base_uri": "https://localhost:8080/"
        },
        "id": "4gQ4B5DOQ5zh",
        "outputId": "4f52f2f5-20a1-40cc-dd0b-53b2a2e9191b"
      },
      "execution_count": 5,
      "outputs": [
        {
          "output_type": "stream",
          "name": "stdout",
          "text": [
            "the ... det\n",
            "dog ... nsubj\n",
            "ate ... ROOT\n",
            "the ... det\n",
            "bone ... dobj\n",
            "yesterday ... npadvmod\n",
            ". ... punct\n"
          ]
        }
      ]
    },
    {
      "cell_type": "markdown",
      "source": [
        "Here we can see that spaCy is able to determine the syntactic constituency of all of the elements in the sentence. This will be important later on as we use a function to create the knowledge graph of sentences."
      ],
      "metadata": {
        "id": "s3LqkTR5To3H"
      }
    },
    {
      "cell_type": "code",
      "source": [],
      "metadata": {
        "id": "HGaneL-2RI2x"
      },
      "execution_count": null,
      "outputs": []
    }
  ]
}